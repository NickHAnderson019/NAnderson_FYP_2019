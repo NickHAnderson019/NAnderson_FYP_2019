{
 "cells": [
  {
   "cell_type": "markdown",
   "metadata": {},
   "source": [
    "## Trajectory Optimization of a Bouncing Ball\n",
    "\n",
    "Explore how contact forces and discontinous dynamics can be handled in optimization. \n",
    "\n",
    "Inelastic collision of ball on ground, similar to that of the skateboard wheels hitting the ground."
   ]
  },
  {
   "cell_type": "code",
   "execution_count": 30,
   "metadata": {},
   "outputs": [
    {
     "data": {
      "image/png": "[encoded data removed]",
      "text/latex": [
       "$\\displaystyle \\left\\{ \\ddot{y} : \\frac{GRF_{impact}}{m_{ball}} - g\\right\\}$"
      ],
      "text/plain": [
       "⎧          GRF_{impact}    ⎫\n",
       "⎨\\ddot{y}: ──────────── - g⎬\n",
       "⎩            m_{ball}      ⎭"
      ]
     },
     "metadata": {},
     "output_type": "display_data"
    }
   ],
   "source": [
    "# import libraries\n",
    "import sympy as sym\n",
    "import numpy as np\n",
    "\n",
    "sym.init_printing()\n",
    "from IPython.display import display #for pretty printing\n",
    "\n",
    "# DERIVE EOMS OF BOARD --------------------------------------------------------------------------------------------------------\n",
    "\n",
    "# create symbolic variables\n",
    "# system parameters\n",
    "g = sym.symbols('g')\n",
    "mb = sym.symbols('m_{ball}') # mass\n",
    "hb = sym.symbols('h_{ball}') # height\n",
    "\n",
    "# generalized coordinates\n",
    "y = sym.symbols('y') \n",
    "dy = sym.symbols('\\dot{y}') \n",
    "ddy = sym.symbols('\\ddot{y}') \n",
    "\n",
    "# forces\n",
    "GRF = sym.symbols('GRF_{impact}') # impulsive impact force\n",
    "\n",
    "EOMy = mb*ddy + mb*g - GRF\n",
    "EOMy = EOMy.simplify()\n",
    "    \n",
    "EOMs = sym.Matrix([EOMy])\n",
    "    \n",
    "display(sym.solve(EOMs,ddy))"
   ]
  },
  {
   "cell_type": "code",
   "execution_count": 31,
   "metadata": {},
   "outputs": [],
   "source": [
    "# Lambdify EOMs\n",
    "from pyomo.environ import*\n",
    "from pyomo.opt import SolverFactory\n",
    "from pyomo.opt import SolverStatus, TerminationCondition\n",
    "\n",
    "func_map = {'sin':sin, 'cos':cos} \n",
    "\n",
    "sym_list = [g,mb,\n",
    "            y,dy,ddy,\n",
    "            GRF]\n",
    "            \n",
    "lambEOMy = sym.lambdify(sym_list,EOMy,modules = [func_map])"
   ]
  },
  {
   "cell_type": "code",
   "execution_count": 32,
   "metadata": {},
   "outputs": [],
   "source": [
    "# rerun from here if you don't want to calculate the EOM's again\n",
    "if 'm' in globals():\n",
    "    del m # deletes the model\n",
    "    \n",
    "m = ConcreteModel()\n",
    "\n",
    "# SETS-----------------------------------------------------------------------------------------------------------------------\n",
    "\n",
    "N = 50\n",
    "m.N = RangeSet(N)\n",
    "\n",
    "N1 = 30 # phase 1 - falling to the groung, end at y = 0.0\n",
    "\n",
    "DOFs = ['y'] # generalized coordinates\n",
    "m.DOF = Set(initialize = DOFs)\n",
    "\n",
    "# PARAMETERS-----------------------------------------------------------------------------------------------------------------\n",
    "\n",
    "m.g = Param(initialize = 9.81) # gravity\n",
    "m.mb = Param(initialize = 1.0) # mass of board\n",
    "\n",
    "# VARIABLES -----------------------------------------------------------------------------------------------------------------\n",
    "\n",
    "# system coordinates\n",
    "m.q = Var(m.N, m.DOF) # position\n",
    "m.dq = Var(m.N, m.DOF) # velocity\n",
    "m.ddq = Var(m.N, m.DOF) # acceleration\n",
    "\n",
    "# ground reaction force\n",
    "m.GRF = Var(m.N, m.DOF, bounds = (0.0,None))\n",
    "\n",
    "# bound variables\n",
    "for n in range(1,N+1):\n",
    "    m.q[n,'y'].setlb(0.0)\n",
    "\n",
    "# TIME AND INTEGRATION --------------------------------------------------------------------------------------------------------\n",
    "\n",
    "# variable timestep\n",
    "hm = 0.02 # master timestep\n",
    "m.h = Var(m.N, bounds = (0.8,1.2))\n",
    "\n",
    "# Integration constraints \n",
    "def BwEuler_p(m,n,dof): # for positions\n",
    "    if n > 1:\n",
    "        return m.q[n,dof] == m.q[n-1,dof] + hm*m.h[n]*m.dq[n,dof] #semi-backward Euler\n",
    "    else:\n",
    "        return Constraint.Skip\n",
    "m.integrate_p = Constraint(m.N, m.DOF, rule = BwEuler_p)\n",
    "\n",
    "def BwEuler_v(m,n,dof): # for velocities\n",
    "    if n > 1:\n",
    "        return m.dq[n,dof] == m.dq[n-1,dof] + hm*m.h[n]*m.ddq[n-1,dof]\n",
    "    else:\n",
    "        return Constraint.Skip \n",
    "m.integrate_v = Constraint(m.N, m.DOF, rule = BwEuler_v)\n",
    "\n",
    "# GROUND CONTACTS ----------------------------------------------------------------------------------------------------------\n",
    "\n",
    "ground_constraints = ['ground_contact']\n",
    "m.ground_constraints = Set(initialize = ground_constraints) # set for indexing ground-related penalties\n",
    "m.ground_penalty = Var(m.N, m.ground_constraints, bounds = (0.0,None))\n",
    "\n",
    "# contact\n",
    "def def_ground_contact(m,n):\n",
    "    if n < N:\n",
    "        return m.ground_penalty[n,'ground_contact'] == m.q[n+1,'y']*m.GRF[n,'y'] \n",
    "    else:\n",
    "        return Constraint.Skip\n",
    "m.def_ground_contact = Constraint(m.N, rule = def_ground_contact) \n",
    "\n",
    "\n",
    "# EOMs -----------------------------------------------------------------------------------------------------------------------\n",
    "\n",
    "def EOMy(m,n): # for y\n",
    "    # list the model versions of all quantities in the same order as sym_list\n",
    "    var_list = [m.g, m.mb,\n",
    "               m.q[n,'y'], m.dq[n,'y'], m.ddq[n,'y'],\n",
    "               m.GRF[n,'y']] \n",
    "    return lambEOMy(*var_list) == 0\n",
    "m.EOMy = Constraint(m.N, rule = EOMy)\n",
    "\n",
    "for dof in DOFs:\n",
    "    m.GRF[N, dof].fix(0.0)\n",
    "    \n",
    "for gnd in ground_constraints:\n",
    "    m.ground_penalty[N, gnd].fix(0.0)\n",
    "    m.ground_penalty[N, gnd].fix(0.0)"
   ]
  },
  {
   "cell_type": "code",
   "execution_count": 33,
   "metadata": {},
   "outputs": [],
   "source": [
    "# # HIGH DROP -----------------------------------------------------------------------------------------------------------------\n",
    "\n",
    "# # initial condition\n",
    "# m.q[1,'y'].value = 5.0\n",
    "# m.q[1,'y'].fixed = True\n",
    "# m.dq[1,'y'].value = 0.0\n",
    "# m.dq[1,'y'].fixed = True\n",
    "    \n",
    "# #m.pprint()"
   ]
  },
  {
   "cell_type": "code",
   "execution_count": 34,
   "metadata": {},
   "outputs": [],
   "source": [
    "# # STANDING -----------------------------------------------------------------------------------------------------------------\n",
    "\n",
    "# # initial condition\n",
    "# m.q[1,'y'].value = 0.0\n",
    "# m.q[1,'y'].fixed = True\n",
    "# m.dq[1,'y'].value = 0.0\n",
    "# m.dq[1,'y'].fixed = True\n",
    "    \n",
    "# #m.pprint()"
   ]
  },
  {
   "cell_type": "code",
   "execution_count": 35,
   "metadata": {},
   "outputs": [],
   "source": [
    "# LOW DROP -----------------------------------------------------------------------------------------------------------------\n",
    "\n",
    "# initial condition\n",
    "m.q[1,'y'].value = 0.7\n",
    "m.q[1,'y'].fixed = True\n",
    "m.dq[1,'y'].value = 0.0\n",
    "m.dq[1,'y'].fixed = True\n",
    "    \n",
    "#m.pprint()"
   ]
  },
  {
   "cell_type": "code",
   "execution_count": 36,
   "metadata": {},
   "outputs": [],
   "source": [
    "# # BOUNCE -----------------------------------------------------------------------------------------------------------------\n",
    "\n",
    "# # initial condition\n",
    "# m.q[1,'y'].setlb(0.1)\n",
    "# m.dq[1,'y'].value = 0.0\n",
    "# m.dq[1,'y'].fixed = True\n",
    "\n",
    "# # bouncing condition, N1=30\n",
    "# m.q[N1,'y'].value = 0.0\n",
    "# m.q[N1,'y'].fixed = True\n",
    "\n",
    "# # # bouncing condition, N=N2+N\n",
    "# # m.q[N,'y'].value = 0.0\n",
    "# # m.q[N,'y'].fixed = True"
   ]
  },
  {
   "cell_type": "code",
   "execution_count": 37,
   "metadata": {},
   "outputs": [],
   "source": [
    "# COST FUNCTION ---------------------------------------------------------------------------------------------------------------\n",
    "\n",
    "# minimum penalties and time\n",
    "def CostFun(m):\n",
    "    T = sum(m.h[n] for n in range(1,N+1))\n",
    "    penalty_sum = 0\n",
    "    for n in range(1,N+1):\n",
    "        for gc in ground_constraints:\n",
    "            penalty_sum += m.ground_penalty[n,gc] \n",
    "    return T + 10000*penalty_sum\n",
    "    #return penalty_sum\n",
    "m.Cost = Objective(rule = CostFun)"
   ]
  },
  {
   "cell_type": "code",
   "execution_count": 38,
   "metadata": {},
   "outputs": [],
   "source": [
    "# Solve -----------------------------------------------------------------------------------------------------------------------\n",
    "opt = SolverFactory('ipopt') # standard issue, garden variety ipopt\n",
    "\n",
    "# solver options\n",
    "opt.options[\"expect_infeasible_problem\"] = 'yes'\n",
    "opt.options[\"print_level\"] = 5 # prints a log with each iteration (you want to this - it's the only way to see progress.)\n",
    "opt.options[\"max_iter\"] = 30000 # maximum number of iterations\n",
    "opt.options[\"max_cpu_time\"] = 300 # maximum cpu time in seconds\n",
    "opt.options[\"Tol\"] = 1e-6 # the tolerance for feasibility. Considers constraints satisfied when they're within this margin.\n",
    "    \n",
    "results = opt.solve(m, tee = False) "
   ]
  },
  {
   "cell_type": "code",
   "execution_count": 39,
   "metadata": {},
   "outputs": [
    {
     "name": "stdout",
     "output_type": "stream",
     "text": [
      "ok\n",
      "optimal\n"
     ]
    }
   ],
   "source": [
    "print(results.solver.status) # tells you if the solver had any errors/ warnings\n",
    "print(results.solver.termination_condition) # tells you if the solution was (locally) optimal, feasible, or neither."
   ]
  },
  {
   "cell_type": "code",
   "execution_count": 40,
   "metadata": {},
   "outputs": [
    {
     "name": "stdout",
     "output_type": "stream",
     "text": [
      "1.2736433989899227e-09\n"
     ]
    }
   ],
   "source": [
    "penalty_sum = 0\n",
    "for n in range(1,N+1):\n",
    "    for gc in ground_constraints:\n",
    "        penalty_sum += m.ground_penalty[n,gc].value\n",
    "print(penalty_sum)"
   ]
  },
  {
   "cell_type": "code",
   "execution_count": 41,
   "metadata": {},
   "outputs": [
    {
     "data": {
      "text/html": [
       "<video width=\"432\" height=\"288\" controls autoplay loop>\n",
       "  <source type=\"video/mp4\" src=\"data:video/mp4;base64,AAAAHGZ0eXBNNFYgAAACAGlzb21pc28yYXZjMQAAAAhmcmVlAAAdM21kYXQAAAKuBgX//6rcRem9\n",
       "5tlIt5Ys2CDZI+7veDI2NCAtIGNvcmUgMTU3IHIyOTcwIDU0OTNiZTggLSBILjI2NC9NUEVHLTQg\n",
       "QVZDIGNvZGVjIC0gQ29weWxlZnQgMjAwMy0yMDE5IC0gaHR0cDovL3d3dy52aWRlb2xhbi5vcmcv\n",
       "eDI2NC5odG1sIC0gb3B0aW9uczogY2FiYWM9MSByZWY9MyBkZWJsb2NrPTE6MDowIGFuYWx5c2U9\n",
       "MHgzOjB4MTEzIG1lPWhleCBzdWJtZT03IHBzeT0xIHBzeV9yZD0xLjAwOjAuMDAgbWl4ZWRfcmVm\n",
       "PTEgbWVfcmFuZ2U9MTYgY2hyb21hX21lPTEgdHJlbGxpcz0xIDh4OGRjdD0xIGNxbT0wIGRlYWR6\n",
       "b25lPTIxLDExIGZhc3RfcHNraXA9MSBjaHJvbWFfcXBfb2Zmc2V0PS0yIHRocmVhZHM9OSBsb29r\n",
       "YWhlYWRfdGhyZWFkcz0xIHNsaWNlZF90aHJlYWRzPTAgbnI9MCBkZWNpbWF0ZT0xIGludGVybGFj\n",
       "ZWQ9MCBibHVyYXlfY29tcGF0PTAgY29uc3RyYWluZWRfaW50cmE9MCBiZnJhbWVzPTMgYl9weXJh\n",
       "bWlkPTIgYl9hZGFwdD0xIGJfYmlhcz0wIGRpcmVjdD0xIHdlaWdodGI9MSBvcGVuX2dvcD0wIHdl\n",
       "aWdodHA9MiBrZXlpbnQ9MjUwIGtleWludF9taW49MjAgc2NlbmVjdXQ9NDAgaW50cmFfcmVmcmVz\n",
       "aD0wIHJjX2xvb2thaGVhZD00MCByYz1jcmYgbWJ0cmVlPTEgY3JmPTIzLjAgcWNvbXA9MC42MCBx\n",
       "cG1pbj0wIHFwbWF4PTY5IHFwc3RlcD00IGlwX3JhdGlvPTEuNDAgYXE9MToxLjAwAIAAABG/ZYiE\n",
       "ADv//vdOvwKbRZdqA5JXCvbKpCZZuVJrAfKmAAADAAARsG59HD4GbrMDACS0mDUGWflI0FiQjMno\n",
       "mNZDPdwDsccKogW1T4cQhvVSF3EP8XyDO4gAAB3yyb4XKEbZ6IMSNA2zieeNqIgxl+3ewhgKzmfE\n",
       "sHvZdf7MtzqOEADfQEcZG+qfn2WOjW/R41J8shOIAELFzOfIWuK4pouX8EKvsOCV2A+a0fZs+Mj5\n",
       "XeTYthe6sO/Nk0iiNt0CZMsd+nxcOBDtfSmPkU8Or0QloKxWBTCAMD+UFGf+I2k+ucXt/6M52Jgc\n",
       "xnX9rEWuiizHCypQHOe+UBFOJiNfkno8CgGV/vR8QDaeHkCG8R/CDw5wQmC8iI1Os5xdxrr1inAt\n",
       "2EuSm0LoAPSMBrb6XuOGsY0krUS3L2mcjXu7I/2DxM9ib4iaxGl8c75/XUCQqBdcu9hCPgHTxsXM\n",
       "AjaVeeYEoR+QYtYLLzwqsvUEhy8hHZK/xMqUmAvE6d3ODO84px9FtQF8OU4TxdX5rIXoTkj/l/Wl\n",
       "ENFzNyv/K164/MYQJ7p42zhJgo67po1TsW3fiKAmq+w73pLElyuf1kiTeN6O+xYOTU+CVCAWEoPs\n",
       "wTA9zIwlWr1HgqV6EhLrSzzNi9RfPkn46xFTzdFwplnmbF6i1o0uXPYG+yuSIXOXOJUXyRZ+QcGh\n",
       "jwgr3jQM3wXQDi1z2lPh2XHFJvSyiYQ4+SGDmzDEaPWH8KaZSbXfmMq+ZXRv08pniH+wsluN2gYS\n",
       "6t6u0i0Ef0ivkD/N524ZdVmJ03Dfgz9YhBOMvZmvFkViIfXiX0RpEGKSbvod121aGu/7wk7p+4Pw\n",
       "ZxgMHCjAmTG1KGGL5AERY5uaI9eyj8SDJydZco6Zd/LvJf9RWSMNyQqfRddizh3MUgSsYAimbAqc\n",
       "W2wUT0k+V5bo3RPIUWsaTmYmloXUNd+jwI0ppzFy3GhXYpwVXf98oGPdZyRkdHmP///+57rxWbaX\n",
       "eSvTsNvBZdkoSvrRoivc6fof2hEJWCcOifxNVQA+/HkhKcCbnQSFrnkZXamnrpY2+STO7Qh04/PT\n",
       "ujvygShCjyUazU2EQ2Sl6NjOne94gzFDj8BrwiWXgdgcUkHrWUmB4Y4fEAR+wc4yTohvQp+LooKl\n",
       "LZ6P00EJWldzB1xodK2E+uCn4ahn+RClk1oM5xMIbJhm08A5fimOwelo6w7B4lNW5AAlKUfbFWsQ\n",
       "VZoAg1o2q2V6zXqU1ffDBjCBz5MJlYjljQDc8S2FbXn5oH/jZ2y72qiTRsXOlrvT4bWkxVxugi4r\n",
       "PbiBHVHptvHrizFjlKWsHW1MhOb780Dy8YKBBRV1CI7NjfEERoG/9SgKulqYmsU8dmVItoj7eIp0\n",
       "ixvhxanZAfOTESoEiANs5K1G4CWazkj2VIyLU+93UTSz08TWWIfPXUD85JJbtB///AJcBs+tmsqA\n",
       "PQYffxdVAKIMyAFV7tuBE8hXAXYGoE+Suq5tQ10PppSw22O7SXvC6ltnIdFdzLZpE73u/0v90PTP\n",
       "8IBjkcaOj2u1iUzJb1DLGtQPpXwuUl9NVmq92Nn6oLRBcQRQSVc7YNpODd1HU0z/O5urF+WB1aho\n",
       "c0VkY5C4U5OWBmCU7tWb4uzxW+4E6DaXyOeaxEzdiyymT1GmXvYzI/czRdASNsQlY/tCOhVujUTM\n",
       "ro1lrBq6o4gZsqZr/+qiim/tyIS2T4Lb6D7fRNdF9pF/qkxqoXnNmyVYi2u7dSPPqo8JbalIYdjN\n",
       "YHz/V7pu6RV22Gb/aXfaVS5EJd3k3BPkDl0EPsQW7RpoMitaflchc30B4BzH3IrDCVElKKZnLZB4\n",
       "rKZCtDS/ymG0KlEMabdQ05wROFSYDop4nAC88nPHnS5bRaLZmJ7a18YplmmF/ViTD2NygKu7/KLT\n",
       "Zi0mfxy92Bfa12Y5qQSP///+/aSYD3AW0DbAkwNYt0ey6M1Ca2zStrZ6hj+MhCH216ZkpBYCQeiq\n",
       "gCJLlPg1vOYAzlncStAVAX413jj8M4p0ZKcYQ3dGStan4MouVysYNzV9VFynDfGhRvIbOsYoSYYR\n",
       "FJgmvuuIlgT9aFFkr+RdtZVrI0bN+U7SfVX9h3yViS1DUms977j+LPQu2sUoP3Jx1Y1jFI6SnO/g\n",
       "ltfU+cAAAG3QeU5bs26vbF30aMDZLC/9W9SVrZG8cHQAJPDfUnKPaArJPA2mpa67uVLIcZ+HH4e5\n",
       "Bq6TILkuYpQE6wWR5zszrrQkxZWJWy3MuIZWP2/EPsBt3lOFULja1IO4pCZsuT+gPi1QtJl3ofXe\n",
       "9XMWm8ko5SJTW5BsSoHH2H2V/f//dIV+3fnzp3Y0Cgcj7gUSqNqd58+S/13cwnDAdlo3eqpMr0Pl\n",
       "T2ai2cWaxebUuHJNggpJyti/7sQgFXI5E9l5iu3/QuZQhPcFFU/Jp0laUm4hpZ5uxzFbDozBTkUm\n",
       "NI/rR3DgTktkTbPtyFZnFHv0ygAN5T78YyOC3UUwXeDQMXGZA8upb+1D9RypyOrta7G+Adk1nxb4\n",
       "ii+g4ciaN+J7chxD4SBVrRlHJ9yxyeH4TAjbb+Tto13WE4F/vZOShbVKlZ8tJrW9qgqlyRKGZrHv\n",
       "ET2NeZs5VkiJZy6zblVB/Xd+yx1L3TdW5BWwq+9mqFzI/awrCMms/q//15CmyT4+A7TV8DksTcAi\n",
       "aZhiex9mXym+KtFdbO1NTW7ECvQVnJYOT4eiNeu74+iPCY+5ZmXW8QoMbOU9Ij+LjZxHi8Ld5yuz\n",
       "coIueLjZxKOhpV6lrLSz3Jk9RenpuYuXtG0WqRXPvR3mCnm3CLOkdK9IiD/ewaJFnmpGMTd8IeJR\n",
       "QMCtAWebzMQaKiTSgPmoT2fcClY4jCdqQ3Vkb7N3+pef/3PFjFzl4zcHmgsjFY2YmzDfXKUKCWTm\n",
       "VE4QUxeTfV//9xE6IxQhT/j0kInMwv0GYs1S/+1IOB0rbNc7wQpAIzlgrqQ/3n8l434ElwQIk5jF\n",
       "PjZnEhE6zreLk8xL+oULMedj7lsmkRMpgBUb/EZeefkdwjpUQeQS8NwC64RuAz4dP2xKPt5gb3Sy\n",
       "SmqZDgylR25vh6LlDgSxUukYn9b6lCbfBk0LWolv6cny5aIKkD40xSIn5CnWCqt8ytOFUE3YfR2o\n",
       "Z2gjatYxyLD5g8S/HiSVc1mMVrhxtRl/OWFadS4h2yv+d1mFLIY5IQw5z8b43t5WdgRQf6cB28BL\n",
       "O5qId6ekDJzhc/FvWZGQBbf923ghsKYAJiy97cTLLOHPcf/LHPKAaESeMpQ4/9yuuF8wADHHxmJm\n",
       "g8lNPzTsUqjxKXO8m4cWB8razDAVim+RUHhtw5BjFgpLkJrCz0FqvtU8U6aKIPFwbCLw927Ngg9p\n",
       "TmPyBUHbgphWB89MQFsvEyMHw2/0YXuz7h44G0qBcV6JJ8Yi4sxD68VRVry3SO2KFe9YwoxyLemY\n",
       "FcpTeQihKJjOIyLe1o6kWvTbZHnMsznUlf3M78YNewpPE0SZfOlX+dnmBb8e+jE79cB/OVslF0u1\n",
       "4m5XBo/QdRAkKSr6FjfKF7Brthcvqonty8GgemKQRZbez9NnIYSp09Hl3UJcOcy1MH5Ie3M0OrTr\n",
       "9ZYaXgcXMX95V09muS78O+oowm7Yxh6nSI7AjbySvev3Kx0GndI1GO5/jraSv8gy5jhafbceFCWf\n",
       "BAJV2Kz4G3MNwIuF1CjLl8Not2IvAAr6GLhlRMZrmLo4IXqtTBk6LsE8muWVBFHKlIPt0X+2ns/6\n",
       "32ZhAJdTI/95fNcgoQlSftp7P+t9mYQCVfNpAW3dMUH253/bT2f9b7MwgEuqSHiuQ5nbWFWgyzQ8\n",
       "ow5e1xCNwUC/VRH+XBaEEinMTm7Jt5XOqNs6MKEuo8+6oVNn4yucSIvQXT5/EG9+twR5LTVKjLmO\n",
       "ATLcMG/PBB2n6ZwNexfG+/DKx4Q0GOEeBJZudGdqdb3gOJ+JH8KRNCu9IewHfRa80dMj+rk7lHub\n",
       "TILt6gE997sdc40s9ncv2ioex2A2Zsumg+/EUFQlFi3BkJI88GE82YhuHGoJYjCnD0qbquwsYb34\n",
       "H2wGLiNMHNE/EDi64PZDy/ryQyT4vi1HK/3Wd0ySMQDg5fyw+00CoaJrAqyBNmRZ13Zu2t2HMKUF\n",
       "Z5/Tyt/Hs8V/cn//84nHwnpTVROrj4zx9RSd+1cZYdbZ4wdvkyXlV0qeYxkohrlTPijBkFdOo7KZ\n",
       "WmR1TpF6g+Ael1Ll3jOvkVf+MIFIS6wjbYraQJ3DB5DasIF2QtGWMSpXtMwKN1CFo2Ww/t5hCp1A\n",
       "A5BGIpErwNTQV9yCuMw7SyytK3o2aCF6eywcgVLx51JnALFJev0ncXtb3Mjp6p5+ILxaBZvr0vOy\n",
       "h2suzaOu85g0LAnV4uIcVz/9gXQROJB20+hDAF6xh5LqH6wXL9TgCf/+t0Md5qbjJpGq28cPAqIh\n",
       "35c/2lnigK5EnmV+coicVDK3INUJV6MRsGip251+BGDjx+0lUHpla7pkOADXbC5cTy932UkxPPQC\n",
       "GCm1M2R11lHT2b5C+B/O03XHlo+/NRLu2KxAjAq42LUZlp/PTz6f+I2ie/R4Lw8GlQCk9tRHcaEJ\n",
       "oe5NTm61biyJ8k03NMGPXL6y2HNxo1Gv01iMUBACsbC1rZl96VqIPYcUiMu6MZJ0ECJFn+nmfxCh\n",
       "FotNOjT9N90snAt3LP/1iHWXcKQNfw1W3zyYE39eLATets8UBU6A5o8KV+4i5psWOcgblHfvw+jM\n",
       "DV1nA/iMZdxmo/aSqD0Qb/2ZDgA12wuXQfa5GEpHlyRul/dVNEAUn5hdfF8GeM8daAwajKeOSVMd\n",
       "EMBAugeVPxXQEzNdl2VaqNPEgbNVW2kU2RMGfHinWV2bt/gBkyuoDdT1HC5OaNRKw9DC7qo+K/K6\n",
       "1KybxsJ8l3vy84CQ4w6Qrf0juuVRpD8piqIz+sWKSJN3KYWxUtG85z53ttNOMWINACINZi38pMTG\n",
       "bKvJkVWmWp8giMsC2H3LefIKO2X09pmk21+5rFf/8P8/uDSDDEU4iDR6V98CwvgRcKdPPp9fz/6U\n",
       "Pz1ZopHgc3GMyiqhRSBxKiBAtQHgQ0Fzxgx0Nr1QHY9ZS73e0Lo8XfCCi2MXuDul8XiV/KTix8cr\n",
       "0ljl0dxN+5yTUjFhEJiiLmhuIfd+ew/oNeF8zbSrDf1x4otuRdOuz+o6j8ju5ewNHkOmt/0Mu0rx\n",
       "bUswmJkcqXoJ7Dvxs8a12MCsUxM1B+hmVDq2Dn/+r94V8VyEZzD8scmhFihHnJuJHfJq9+wjHHEt\n",
       "ymYPdeiPHOJ8dHSG7a2rJ1nq5JS0bl0xsCRTxFDkoeFiJrbQ8rL/Sv3fLjOqvCB3WCRcdv69N9Q0\n",
       "nPvEpGQ4zYygz7RJ/Kpl2HmZSEGb8mGJBBpiduVY5XejXg4F/Mb9ZRNc2yUk0meYy91iTKJCJJ7j\n",
       "g6vBRa9tkNjoVSErP1B8nonJfinUxufTd0jbMfAySkmqP/+j9GA39cDUNTcappUGT+o2OlzGADCJ\n",
       "zgDmPL5OT6ynf5ZhTWH2c1yQdDgr5CxZ1CvBFbUQe0BuJZJI1Ek6pnfqpoEO5EkUiXZ5WL7+lnsn\n",
       "8HQRM2Wj5C4UU3Vjdk9/g5yO6ghEiufF2oyPwvx4nFmynWWqV5m7UGobincItGwugjyC+F7eE0qE\n",
       "FXtwqVMk/GSqv8A3dFVOuJnh8OS2kEIhDFlfF//5/Yb9BbWOhjxV7Dxipr6534PkrGlKGgKojYtY\n",
       "DkYZrZHpWS8CPFjtA/6OZ9q4vsg0KTy0Ru4SR/x+m07Pq/zp0wbJFWaHl2j082G+eGqyM3uxqpIG\n",
       "5m2I7c2Ez8WWPBS3I9EuFlI5sKPOqusCn0fbma/J2krqRlUtNb7sB/RJLhAa1tL5brrkgvor8p/z\n",
       "lxDPoyFtm4J+XEK04GWc8HVt8GpyShUSQyiFxRlpvEoB9DlFuF5Lbg9nyZb2C+c98Qk/0Lw5valM\n",
       "lT6qDurZBVn1KguuVORqGK6INFOeX3033ZstoyB0n6fhX7A+fmEvGLi7zGJzYn8az35N9T5XNjoj\n",
       "mEtD2FNnZ9uSA5PiB0KDQzqoS9EK2/2Bm+uAMHNUAYottsXj/QAAAZ9BmiRsQ7/+qZYA7nIfQBGI\n",
       "8Gu9Z8P4HD/9IaGqnLfuCQRBsyC+j3/kIFRjef+Xvyvjp4M5MyhJ9PsMngIrU9QL18uaUsmGPCS8\n",
       "hilvxR2TfCkd7jZ+CO09h19TBIHEz6iBPmAE35XZiw674QFTH/jKqYIr3JR4bapmnjGGMIBY9pvm\n",
       "tGEFnwa0R8dee12Al5gadAC1fy3BqkkVOWtGjQQ0xHEkD0fU8sHrJq7ajBKQzXUx2znjWa2X3wR6\n",
       "rM8mIYTKxkkD7zy3/J8fMmw8u6fcYeDCovET87VE2dyQ9LW/Oa9sLtD5byT15bEaRwiucFPNRfnE\n",
       "WXcD5+zwvdxT+hyr7j+EwJ3JLh5gOSHsRUyWeU8JG77Uz83l1kRZO6B8WcmsbwLvTJwiHC+NGTz7\n",
       "JiSEBd2iRw9h1ZO5xH6JDVxzhug2XPKtUAQ9818icpp4KsaPLFZJaCXXsjM+wbTewgfbHmVUqD31\n",
       "vI7pqRPnLGcBcHG8sx65mnBfIeD8iWjeCw+pQ9mRWMmcuT8sHuMZNKAXahZXRRmUQYRR8jIZyuKO\n",
       "AAAAOkGeQniGfwC6KC98ALP2xqX4RkWyqZbxdeS0rTAaEPeJW1YijeQ1ACSvO+hpPiyTh5WTC3au\n",
       "z/xNI2EAAAAyAZ5hdEK/AVpLYoKk9ZysZQAA3UtSqdQf4pg27oF6ojiAFlx3eQio4C5Re/nujHUq\n",
       "RDwAAAAgAZ5jakK/ABFLcLDcoHuGcbFkW7AAAtfr+QGxty+ksuEAAABGQZpnSahBaJlMCHf//qmW\n",
       "AArjWK1uoAIfRy3Ys0qn1gJrWxDuvNyXX7PvkldTSQm145aCGGI43uhWrrcuOlcYQ0Oc9sHQoQAA\n",
       "AC1BnoVFESwv/wAMulVgMQAlTMHHZOyQFdhKIiI3npa88wH/CMX8LM4jAhnLfLkAAAAoAZ6makK/\n",
       "ABEiTSGlgAh8McSkiSSefu1v0I44QgrNAfmY0aM6ezJWoQAAAE5BmqlJqEFsmUwUTDf//qeEABWX\n",
       "Drf2QAt09TreP257TcE4jYV/oKxs5zGX7yYQcDGgg8404QHvN2AB/bGdz45Uh5fRPaXmTtIeD1zW\n",
       "kkAAAAAyAZ7IakK/ABEfOPBMAE6k0XU6g1dDBuXjSeMvXCb9t7LWriZqgv2OQpFDJ8ePKFYZIhAA\n",
       "AAA9QZrLSeEKUmUwUsN//qeEABWQ7aete69WoEkPXD18h4lxnc+BgAC2DHNfrCz6pdvbpIOt+UJx\n",
       "2TCE8rjgDQAAABgBnupqQr8AEVkJ5j4Sk6heZGYgBZZf4hAAAAA0QZrtSeEOiZTBRMN//qeEAArU\n",
       "1XLRgPS4Ycp3O7m2EIAWYYDj3XPgQmQEXMaHwcYJ5DaUGwAAABgBnwxqQr8ACK2nBq9WTP3RMhRx\n",
       "ACy0M4EAAAA1QZsOSeEPJlMCG//+p4QACtL6ks/Zzvhrs638uFNrIQAsmPOp9GFgAfsBFzGh8HGC\n",
       "eQ2lBsEAAABEQZsvSeEPJlMCG//+p4QABWddz3P7IAOIeQqmx/9GiWsydCfybV9fVND107/kAX9L\n",
       "Vi3b65Y2YFv2Ai5jQMYTAXYrLDMAAABPQZtQSeEPJlMCG//+p4QABWY37NhMAAci5YAUzF9LBM/1\n",
       "2cIAJ/3iT1TqsQ0hF86GUzlSpGm47/+q6p+1VhSR5hEUdJW8/wWdMmfJ+XJZCwAAADhBm3FJ4Q8m\n",
       "UwIb//6nhAAFaX1JZ+yqJ3PRiN7Mw935LyT43IkYSxOAaDSTO0SHPtfTT2y2VgDFaAAAADtBm5JJ\n",
       "4Q8mUwIb//6nhAAFQZpJfjZepF29opf36GrYRakoxIyr/fx+/twuco0AJ788g/4ksBousSriWQAA\n",
       "AEJBm7NJ4Q8mUwIb//6nhAAFQU8sMuwcCfTuVp+0ImpwAt075vj7HC3TDj+HuTs4XEGoc3MRjQne\n",
       "IAALz+8C3sccVb0AAAA8QZvUSeEPJlMCHf/+qZYAAV34FACqopTP4VTHS5j2NcIW+XH4ImHcl/Y7\n",
       "7+dUX1XKWAfU6uiNCl47o0XAAAAAPEGb9knhDyZTBRE8O//+qZYAAK4LhS4jgm2Ffw7NABxabBFk\n",
       "94rcRbz1U9l5OdJZDe53o9fN/liQXL6bKwAAADEBnhVqQr8AARUclwo2V4Aa5dUv7jwFbf3JIe0a\n",
       "SeIbjJdud+mZv6PFsVBIFf7mxpEYAAAAREGaF0nhDyZTAh///qmWAADPceC+AE+ywF4TT5vOS9yK\n",
       "+smMGLv18amnyG8rYM7eaGVz6eaXn/dz2Ph/nWWDaS38SQwxAAAAPkGaO0nhDyZTAh///qmWAABX\n",
       "GtSlcAIjDx+h80Pg0Jd7BKy9lBchdLnTEwBOCpm7GMcgcCFKk05v++Gv0H/BAAAAEEGeWUURPDP/\n",
       "AABLYqf17gwAAAAOAZ54dEK/AACKubG5lFEAAAALAZ56akK/AAADAYsAAAAVQZp/SahBaJlMCH//\n",
       "/qmWAAADAPCBAAAADkGenUURLDP/AAADANSBAAAACwGevHRCvwAAAwGLAAAACwGevmpCvwAAAwGL\n",
       "AAAAFUGao0moQWyZTAh///6plgAAAwDwgQAAAA5BnsFFFSwz/wAAAwDUgAAAAAsBnuB0Qr8AAAMB\n",
       "iwAAAAsBnuJqQr8AAAMBiwAAABVBmudJqEFsmUwId//+qZYAAAMA8IEAAAAOQZ8FRRUsM/8AAAMA\n",
       "1IEAAAALAZ8kdEK/AAADAYsAAAALAZ8makK/AAADAYsAAAAVQZsrSahBbJlMCHf//qmWAAADAPCA\n",
       "AAAADkGfSUUVLDP/AAADANSAAAAACwGfaHRCvwAAAwGLAAAACwGfampCvwAAAwGLAAAAE0Gbb0mo\n",
       "QWyZTAhn//6eEAAAB0wAAAAOQZ+NRRUsM/8AAAMA1IEAAAALAZ+sdEK/AAADAYsAAAALAZ+uakK/\n",
       "AAADAYsAAAAUQZuxSahBbJlMFEwr//44QAAAHHAAAAALAZ/QakK/AAADAYsAAAVObW9vdgAAAGxt\n",
       "dmhkAAAAAAAAAAAAAAAAAAAD6AAACcQAAQAAAQAAAAAAAAAAAAAAAAEAAAAAAAAAAAAAAAAAAAAB\n",
       "AAAAAAAAAAAAAAAAAABAAAAAAAAAAAAAAAAAAAAAAAAAAAAAAAAAAAAAAAAAAgAABHh0cmFrAAAA\n",
       "XHRraGQAAAADAAAAAAAAAAAAAAABAAAAAAAACcQAAAAAAAAAAAAAAAAAAAAAAAEAAAAAAAAAAAAA\n",
       "AAAAAAABAAAAAAAAAAAAAAAAAABAAAAAAbAAAAEgAAAAAAAkZWR0cwAAABxlbHN0AAAAAAAAAAEA\n",
       "AAnEAAAEAAABAAAAAAPwbWRpYQAAACBtZGhkAAAAAAAAAAAAAAAAAAAoAAAAZABVxAAAAAAALWhk\n",
       "bHIAAAAAAAAAAHZpZGUAAAAAAAAAAAAAAABWaWRlb0hhbmRsZXIAAAADm21pbmYAAAAUdm1oZAAA\n",
       "AAEAAAAAAAAAAAAAACRkaW5mAAAAHGRyZWYAAAAAAAAAAQAAAAx1cmwgAAAAAQAAA1tzdGJsAAAA\n",
       "s3N0c2QAAAAAAAAAAQAAAKNhdmMxAAAAAAAAAAEAAAAAAAAAAAAAAAAAAAAAAbABIABIAAAASAAA\n",
       "AAAAAAABAAAAAAAAAAAAAAAAAAAAAAAAAAAAAAAAAAAAAAAAAAAAGP//AAAAMWF2Y0MBZAgV/+EA\n",
       "GGdkCBWs2UGwloQAAAMABAAAAwCgPFi2WAEABmjr48siwAAAABx1dWlka2hA8l8kT8W6OaUbzwMj\n",
       "8wAAAAAAAAAYc3R0cwAAAAAAAAABAAAAMgAAAgAAAAAUc3RzcwAAAAAAAAABAAAAAQAAAWhjdHRz\n",
       "AAAAAAAAACsAAAABAAAEAAAAAAEAAAoAAAAAAQAABAAAAAABAAAAAAAAAAEAAAIAAAAAAQAACAAA\n",
       "AAACAAACAAAAAAEAAAYAAAAAAQAAAgAAAAABAAAGAAAAAAEAAAIAAAAAAQAABgAAAAABAAACAAAA\n",
       "AAcAAAQAAAAAAQAABgAAAAABAAACAAAAAAEAAAQAAAAAAQAACgAAAAABAAAEAAAAAAEAAAAAAAAA\n",
       "AQAAAgAAAAABAAAKAAAAAAEAAAQAAAAAAQAAAAAAAAABAAACAAAAAAEAAAoAAAAAAQAABAAAAAAB\n",
       "AAAAAAAAAAEAAAIAAAAAAQAACgAAAAABAAAEAAAAAAEAAAAAAAAAAQAAAgAAAAABAAAKAAAAAAEA\n",
       "AAQAAAAAAQAAAAAAAAABAAACAAAAAAEAAAoAAAAAAQAABAAAAAABAAAAAAAAAAEAAAIAAAAAAQAA\n",
       "BgAAAAABAAACAAAAABxzdHNjAAAAAAAAAAEAAAABAAAAMgAAAAEAAADcc3RzegAAAAAAAAAAAAAA\n",
       "MgAAFHUAAAGjAAAAPgAAADYAAAAkAAAASgAAADEAAAAsAAAAUgAAADYAAABBAAAAHAAAADgAAAAc\n",
       "AAAAOQAAAEgAAABTAAAAPAAAAD8AAABGAAAAQAAAAEAAAAA1AAAASAAAAEIAAAAUAAAAEgAAAA8A\n",
       "AAAZAAAAEgAAAA8AAAAPAAAAGQAAABIAAAAPAAAADwAAABkAAAASAAAADwAAAA8AAAAZAAAAEgAA\n",
       "AA8AAAAPAAAAFwAAABIAAAAPAAAADwAAABgAAAAPAAAAFHN0Y28AAAAAAAAAAQAAACwAAABidWR0\n",
       "YQAAAFptZXRhAAAAAAAAACFoZGxyAAAAAAAAAABtZGlyYXBwbAAAAAAAAAAAAAAAAC1pbHN0AAAA\n",
       "Jal0b28AAAAdZGF0YQAAAAEAAAAATGF2ZjU4LjIwLjEwMA==\n",
       "\">\n",
       "  Your browser does not support the video tag.\n",
       "</video>"
      ],
      "text/plain": [
       "<IPython.core.display.HTML object>"
      ]
     },
     "execution_count": 41,
     "metadata": {},
     "output_type": "execute_result"
    },
    {
     "data": {
      "image/png": "[encoded data removed]",
      "text/plain": [
       "<Figure size 432x288 with 1 Axes>"
      ]
     },
     "metadata": {
      "needs_background": "light"
     },
     "output_type": "display_data"
    }
   ],
   "source": [
    "#animate it\n",
    "import matplotlib.pyplot as plt\n",
    "import matplotlib.animation as ani\n",
    "from IPython.display import HTML\n",
    "%matplotlib inline\n",
    "\n",
    "fig1, ax1 = plt.subplots(1,1) #create axes\n",
    "fig1.gca().set_aspect('equal', adjustable='box') #make x,y scales equal\n",
    "\n",
    "def plot_board(i,m,ax): #update function for animation\n",
    "    ax.clear()\n",
    "    ax.set_xlim([-1,1])\n",
    "    ax.set_ylim([-0.5,m.q[1,'y'].value+0.5])\n",
    "    ax.grid()\n",
    "    \n",
    "    #plot ball\n",
    "    ballx = 0.0\n",
    "    bally = m.q[i,'y'].value  \n",
    "    ax.plot(ballx,bally,color='xkcd:black', marker='o')\n",
    "    \n",
    "update = lambda i: plot_board(i,m,ax1) #lambdify update function\n",
    "\n",
    "animate = ani.FuncAnimation(fig1,update,range(1,N+1),interval = 50,repeat=True)\n",
    "\n",
    "HTML(animate.to_html5_video()) #you need to convert the animation to HTML5 to embed it in the notebook"
   ]
  },
  {
   "cell_type": "code",
   "execution_count": 42,
   "metadata": {},
   "outputs": [
    {
     "name": "stdout",
     "output_type": "stream",
     "text": [
      "solutions\\ball_inelastic_0.7\n",
      "model saved\n"
     ]
    }
   ],
   "source": [
    "import pickle as pkl\n",
    "\n",
    "modelname = 'ball_inelastic'+'_' + str(m.q[1,'y'].value)\n",
    "filepath = 'solutions\\\\'\n",
    "filename = filepath+modelname\n",
    "print(filename)\n",
    "\n",
    "if (str(results.solver.termination_condition) == \"optimal\"):\n",
    "    with open(filename, mode='wb') as file:\n",
    "        pkl.dump(m, file)\n",
    "        print(\"model saved\")\n",
    "else:\n",
    "    print(\"model not saved - not optimal solution.\")"
   ]
  },
  {
   "cell_type": "code",
   "execution_count": 44,
   "metadata": {},
   "outputs": [],
   "source": [
    "data = 'ball_inelastic_0.7'\n",
    "filepath = 'solutions\\\\'\n",
    "filename = filepath+data\n",
    "with open(filename, mode='rb') as file:\n",
    "    m1 = pkl.load(file)\n",
    "\n",
    "data = 'ball_inelastic_0.5'\n",
    "filename = filepath+data\n",
    "with open(filename, mode='rb') as file:\n",
    "    m2 = pkl.load(file)\n",
    "\n",
    "data = 'ball_inelastic_0.3'\n",
    "filename = filepath+data\n",
    "with open(filename, mode='rb') as file:\n",
    "    m3 = pkl.load(file)"
   ]
  },
  {
   "cell_type": "code",
   "execution_count": 45,
   "metadata": {},
   "outputs": [
    {
     "name": "stderr",
     "output_type": "stream",
     "text": [
      "The PostScript backend does not support transparency; partially transparent artists will be rendered opaque.\n",
      "The PostScript backend does not support transparency; partially transparent artists will be rendered opaque.\n"
     ]
    },
    {
     "data": {
      "image/png": "[encoded data removed]",
      "text/plain": [
       "<Figure size 576x432 with 1 Axes>"
      ]
     },
     "metadata": {
      "needs_background": "light"
     },
     "output_type": "display_data"
    }
   ],
   "source": [
    "import matplotlib.pyplot as plt\n",
    "\n",
    "# Plot some of the variables\n",
    "yar_1  = [m1.q[i,'y']() for i in range(1,N+1)]\n",
    "yar_2  = [m2.q[i,'y']() for i in range(1,N+1)]\n",
    "yar_3  = [m3.q[i,'y']() for i in range(1,N+1)]\n",
    "\n",
    "tarr = [m.h[i]() for i in range (1,N+1)]\n",
    "t = hm*np.cumsum(np.asarray(tarr))\n",
    "t -= t[0]\n",
    "\n",
    "nar = np.linspace(1,N,N)\n",
    "\n",
    "plt.figure(figsize=(8, 6))\n",
    "# plt.step(t, yar, where='post')\n",
    "plt.plot(t, yar_1)\n",
    "plt.plot(t, yar_2)\n",
    "plt.plot(t, yar_3)\n",
    "plt.title('Bouncing Ball - Inelastic')\n",
    "plt.ylabel('y (m)')\n",
    "plt.xlabel('t (s)')\n",
    "plt.legend([r'$y_1 = 0.7$',r'$y_1 = 0.5$',r'$y_1 = 0.3$'])\n",
    "plt.grid(True)\n",
    "\n",
    "plt.savefig('plots\\\\ball_inelastic.eps', format='eps')\n",
    "\n",
    "# plt.tight_layout()\n"
   ]
  }
 ],
 "metadata": {
  "kernelspec": {
   "display_name": "Python 3",
   "language": "python",
   "name": "python3"
  },
  "language_info": {
   "codemirror_mode": {
    "name": "ipython",
    "version": 3
   },
   "file_extension": ".py",
   "mimetype": "text/x-python",
   "name": "python",
   "nbconvert_exporter": "python",
   "pygments_lexer": "ipython3",
   "version": "3.7.3"
  }
 },
 "nbformat": 4,
 "nbformat_minor": 4
}
