{
 "cells": [
  {
   "cell_type": "markdown",
   "metadata": {},
   "source": [
    "Derive relative position and velocity of the ball in the skateboard frame"
   ]
  },
  {
   "cell_type": "code",
   "execution_count": 4,
   "metadata": {},
   "outputs": [],
   "source": [
    "import sympy as sym\n",
    "# Auxiliary Variables\n",
    "\n",
    "# system variables\n",
    "x,y,xsb,ysb,thsb = sym.symbols(['x','y','x_{sb}','y_{sb}','\\\\theta_{sb}']) # monopod in global frame\n",
    "dx,dy,dxsb,dysb,dthsb = sym.symbols(['\\dot{x}','\\dot{y}','\\dot{x_{sb}}','\\dot{y_{sb}}','\\dot{\\\\theta_{sb}}']) # monopod in global frame\n",
    "\n",
    "q = sym.Matrix([[x],[y],[xsb],[ysb],[thsb]])\n",
    "dq = sym.Matrix([[dx],[dy],[dxsb],[dysb],[dthsb]])\n",
    "\n",
    "p_ball = sym.Matrix([[x], [y]])\n",
    "p_board = sym.Matrix([[xsb], [ysb]])\n",
    "\n",
    "Rz_thb = sym.Matrix([[sym.cos(thsb), sym.sin(thsb)], # z-rotation by thb\n",
    "                     [-sym.sin(thsb), sym.cos(thsb)]])\n",
    "\n",
    "pf_b = Rz_thb*(p_ball-p_board) # position of foot in board frame\n",
    "\n",
    "# Velocity of foot in board frame\n",
    "vf_b = pf_b.jacobian(q)*dq\n",
    "vf_bx = vf_b[0].simplify()"
   ]
  },
  {
   "cell_type": "code",
   "execution_count": 6,
   "metadata": {},
   "outputs": [
    {
     "data": {
      "text/latex": [
       "$\\displaystyle \\left[\\begin{matrix}\\dot{\\theta_{sb}} \\left(- \\left(x - x_{sb}\\right) \\sin{\\left(\\theta_{sb} \\right)} + \\left(y - y_{sb}\\right) \\cos{\\left(\\theta_{sb} \\right)}\\right) - \\dot{x_{sb}} \\cos{\\left(\\theta_{sb} \\right)} + \\dot{x} \\cos{\\left(\\theta_{sb} \\right)} - \\dot{y_{sb}} \\sin{\\left(\\theta_{sb} \\right)} + \\dot{y} \\sin{\\left(\\theta_{sb} \\right)}\\\\\\dot{\\theta_{sb}} \\left(\\left(- x + x_{sb}\\right) \\cos{\\left(\\theta_{sb} \\right)} - \\left(y - y_{sb}\\right) \\sin{\\left(\\theta_{sb} \\right)}\\right) + \\dot{x_{sb}} \\sin{\\left(\\theta_{sb} \\right)} - \\dot{x} \\sin{\\left(\\theta_{sb} \\right)} - \\dot{y_{sb}} \\cos{\\left(\\theta_{sb} \\right)} + \\dot{y} \\cos{\\left(\\theta_{sb} \\right)}\\end{matrix}\\right]$"
      ],
      "text/plain": [
       "Matrix([\n",
       "[\\dot{\\theta_{sb}}*(-(x - x_{sb})*sin(\\theta_{sb}) + (y - y_{sb})*cos(\\theta_{sb})) - \\dot{x_{sb}}*cos(\\theta_{sb}) + \\dot{x}*cos(\\theta_{sb}) - \\dot{y_{sb}}*sin(\\theta_{sb}) + \\dot{y}*sin(\\theta_{sb})],\n",
       "[\\dot{\\theta_{sb}}*((-x + x_{sb})*cos(\\theta_{sb}) - (y - y_{sb})*sin(\\theta_{sb})) + \\dot{x_{sb}}*sin(\\theta_{sb}) - \\dot{x}*sin(\\theta_{sb}) - \\dot{y_{sb}}*cos(\\theta_{sb}) + \\dot{y}*cos(\\theta_{sb})]])"
      ]
     },
     "execution_count": 6,
     "metadata": {},
     "output_type": "execute_result"
    }
   ],
   "source": [
    "vf_b"
   ]
  }
 ],
 "metadata": {
  "kernelspec": {
   "display_name": "Python 3",
   "language": "python",
   "name": "python3"
  },
  "language_info": {
   "codemirror_mode": {
    "name": "ipython",
    "version": 3
   },
   "file_extension": ".py",
   "mimetype": "text/x-python",
   "name": "python",
   "nbconvert_exporter": "python",
   "pygments_lexer": "ipython3",
   "version": "3.7.3"
  }
 },
 "nbformat": 4,
 "nbformat_minor": 4
}
