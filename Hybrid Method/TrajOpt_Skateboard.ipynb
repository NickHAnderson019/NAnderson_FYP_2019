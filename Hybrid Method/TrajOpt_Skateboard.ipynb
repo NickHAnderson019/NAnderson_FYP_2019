{
 "cells": [
  {
   "cell_type": "markdown",
   "metadata": {},
   "source": [
    "# Trajectory Optimization of Basic Skateboard Model\n",
    "### Creating a basic skateboard model and performing hybrid trajectory optimization of the Ollie manoeuvre\n",
    "\n",
    "This notebook is a step by step guide to using the hybrid method to perform trajectory optimization on a skateboard model performing an Ollie. It is broken up into the following iterative sections:\n",
    "\n",
    "1) Explain the basic theory of the hybrid method to trajectory optimization.\n",
    "\n",
    "2) Develop basic model for the skateboard\n",
    "\n",
    "3) Separate the Ollie manoeuvre into phases.\n",
    "\n",
    "4) Optimize each phase\n"
   ]
  },
  {
   "cell_type": "markdown",
   "metadata": {},
   "source": [
    "### 1) Explain basic theory of the hybrid method"
   ]
  },
  {
   "cell_type": "markdown",
   "metadata": {},
   "source": [
    "blah blah blah"
   ]
  },
  {
   "cell_type": "markdown",
   "metadata": {},
   "source": [
    "### 1) Develop basic model for the skateboard\n",
    "\n",
    "The idea is to model the skateboard as a 2D uniform beam, with COM in the geometric centre. The back wheels will be modeled as a hinge with no ability to roll, and the front wheels a block. Both can only exert a normal force of the board.\n",
    "\n",
    "<img src = \"images/skateboard_dimensions.png\" width = \"400\">"
   ]
  },
  {
   "cell_type": "markdown",
   "metadata": {},
   "source": [
    "### 3) Separate the Ollie manoeuvre into sub-phases.\n",
    "\n",
    "**Phase 1: Pre-pop**\n",
    "\n",
    "The board is only in contact with the ground on it's back wheel. The board rotates CCW until the tail of the board is in contact with the ground. \n",
    "\n",
    "<img src = \"images/skateboard_phase1.png\" width = \"200\">\n",
    "\n",
    "\n",
    "$$\\lambda_{FW}=0$$\n",
    "$$y_{tail} \\neq 0$$\n",
    "\n",
    "**Phase 2: Pop**\n",
    "\n",
    "The board is in contact with the ground on it's back wheel and tail. The reaction force of the ground \"pop\" the board into the air. \n",
    "\n",
    "<img src = \"images/skateboard_phase2.png\" width = \"200\">\n",
    "\n",
    "\n",
    "$$\\lambda_{FW}=0$$\n",
    "$$y_{tail} = 0$$\n",
    "\n",
    "**Phase 3: Airborne**\n",
    "\n",
    "The board is airborne - there is no contact with the ground. The applied forces are both in line with the wheels.\n",
    "\n",
    "<img src = \"images/skateboard_phase3.png\" width = \"200\">\n",
    "\n",
    "$$\\lambda_{FW}=\\lambda_{BW}=0$$\n",
    "$$y_{tail} \\neq 0$$\n",
    "\n",
    "**Phase 4: Landing**"
   ]
  },
  {
   "cell_type": "markdown",
   "metadata": {},
   "source": [
    "### 4) Optimize each subphase\n",
    "\n",
    "Blah blah blah"
   ]
  }
 ],
 "metadata": {
  "kernelspec": {
   "display_name": "Python 3",
   "language": "python",
   "name": "python3"
  },
  "language_info": {
   "codemirror_mode": {
    "name": "ipython",
    "version": 3
   },
   "file_extension": ".py",
   "mimetype": "text/x-python",
   "name": "python",
   "nbconvert_exporter": "python",
   "pygments_lexer": "ipython3",
   "version": "3.7.3"
  }
 },
 "nbformat": 4,
 "nbformat_minor": 2
}
