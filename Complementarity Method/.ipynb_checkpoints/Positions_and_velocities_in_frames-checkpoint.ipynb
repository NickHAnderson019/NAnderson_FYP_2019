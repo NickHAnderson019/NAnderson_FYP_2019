{
 "cells": [
  {
   "cell_type": "markdown",
   "metadata": {},
   "source": [
    "# Deriving skateboard-frame positions and velocities "
   ]
  },
  {
   "cell_type": "code",
   "execution_count": 37,
   "metadata": {},
   "outputs": [
    {
     "name": "stdin",
     "output_type": "stream",
     "text": [
      "Once deleted, variables cannot be recovered. Proceed (y/[n])?  y\n"
     ]
    },
    {
     "data": {
      "text/latex": [
       "$\\displaystyle \\left[\\begin{matrix}- x_{board} + x_{foot} \\cos{\\left(\\theta_{board} + \\operatorname{atan}{\\left(\\frac{- y_{board} + y_{foot}}{- x_{board} + x_{foot}} \\right)} \\right)} + y_{foot} \\sin{\\left(\\theta_{board} + \\operatorname{atan}{\\left(\\frac{- y_{board} + y_{foot}}{- x_{board} + x_{foot}} \\right)} \\right)}\\\\- x_{foot} \\sin{\\left(\\theta_{board} + \\operatorname{atan}{\\left(\\frac{- y_{board} + y_{foot}}{- x_{board} + x_{foot}} \\right)} \\right)} - y_{board} + y_{foot} \\cos{\\left(\\theta_{board} + \\operatorname{atan}{\\left(\\frac{- y_{board} + y_{foot}}{- x_{board} + x_{foot}} \\right)} \\right)}\\end{matrix}\\right]$"
      ],
      "text/plain": [
       "⎡                         ⎛                     ⎛-y_{board} + y_{foot}⎞⎞      \n",
       "⎢-x_{board} + x_{foot}⋅cos⎜\\theta_{board} + atan⎜─────────────────────⎟⎟ + y_{\n",
       "⎢                         ⎝                     ⎝-x_{board} + x_{foot}⎠⎠      \n",
       "⎢                                                                             \n",
       "⎢              ⎛                     ⎛-y_{board} + y_{foot}⎞⎞                 \n",
       "⎢- x_{foot}⋅sin⎜\\theta_{board} + atan⎜─────────────────────⎟⎟ - y_{board} + y_\n",
       "⎣              ⎝                     ⎝-x_{board} + x_{foot}⎠⎠                 \n",
       "\n",
       "         ⎛                     ⎛-y_{board} + y_{foot}⎞⎞ ⎤\n",
       "foot}⋅sin⎜\\theta_{board} + atan⎜─────────────────────⎟⎟ ⎥\n",
       "         ⎝                     ⎝-x_{board} + x_{foot}⎠⎠ ⎥\n",
       "                                                        ⎥\n",
       "          ⎛                     ⎛-y_{board} + y_{foot}⎞⎞⎥\n",
       "{foot}⋅cos⎜\\theta_{board} + atan⎜─────────────────────⎟⎟⎥\n",
       "          ⎝                     ⎝-x_{board} + x_{foot}⎠⎠⎦"
      ]
     },
     "metadata": {},
     "output_type": "display_data"
    }
   ],
   "source": [
    "%reset\n",
    "# import libraries\n",
    "import pickle as pkl\n",
    "import sympy as sym\n",
    "import numpy as np\n",
    "\n",
    "sym.init_printing()\n",
    "from IPython.display import display #for pretty printing\n",
    "\n",
    "# DERIVE EOMS OF BOARD --------------------------------------------------------------------------------------------------------\n",
    "\n",
    "# system variables\n",
    "xf_f,yf_f = sym.symbols(['x_{foot}','y_{foot}']) # foot in foot frame\n",
    "xb_b,yb_b,thb_b = sym.symbols(['x_{board}','y_{board}','\\\\theta_{board}']) # board in board frame\n",
    "\n",
    "pf_f = sym.Matrix([[xf_f],[yf_f]])\n",
    "\n",
    "thf_f = sym.atan((yf_f-yb_b)/(xf_f-xb_b))\n",
    "\n",
    "thA = thb_b+thf_f\n",
    "\n",
    "Rz_thA = sym.Matrix([[sym.cos(thA), sym.sin(thA)],\n",
    "                     [-sym.sin(thA), sym.cos(thA)]])\n",
    "\n",
    "xb_f = (Rz_thA*pf_f)[0] - xb_b\n",
    "yb_f = (Rz_thA*pf_f)[1] - yb_b\n",
    "\n",
    "pf_b = sym.zeros(2,1)\n",
    "pf_b[0] = xb_f\n",
    "pf_b[1] = yb_f\n",
    "\n",
    "display(pf_b)"
   ]
  }
 ],
 "metadata": {
  "kernelspec": {
   "display_name": "Python 3",
   "language": "python",
   "name": "python3"
  },
  "language_info": {
   "codemirror_mode": {
    "name": "ipython",
    "version": 3
   },
   "file_extension": ".py",
   "mimetype": "text/x-python",
   "name": "python",
   "nbconvert_exporter": "python",
   "pygments_lexer": "ipython3",
   "version": "3.7.3"
  }
 },
 "nbformat": 4,
 "nbformat_minor": 2
}
