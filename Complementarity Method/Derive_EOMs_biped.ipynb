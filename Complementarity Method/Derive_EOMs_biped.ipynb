{
 "cells": [
  {
   "cell_type": "markdown",
   "metadata": {},
   "source": [
    "# Equations of Motion of Board\n",
    "## Derive and store the equations of motion of the board"
   ]
  },
  {
   "cell_type": "code",
   "execution_count": 13,
   "metadata": {},
   "outputs": [
    {
     "name": "stdin",
     "output_type": "stream",
     "text": [
      "Once deleted, variables cannot be recovered. Proceed (y/[n])?  y\n"
     ]
    }
   ],
   "source": [
    "%reset\n",
    "# DERIVE THE EOMs SYMBOLICALLY ----------------------------------------------------------------------------------------------\n",
    "\n",
    "# import libraries\n",
    "import sympy as sym\n",
    "import numpy as np\n",
    "\n",
    "sym.init_printing()\n",
    "from IPython.display import display #for pretty printing\n",
    "\n",
    "# create symbolic variables\n",
    "\n",
    "# system parameters\n",
    "g = sym.symbols('g')\n",
    "mb,mll1,mll2,mlr1,mlr2 = sym.symbols(['m_{body}','m_{leg1left}','m_{leg2left}','m_{leg1right}','m_{leg2right}']) # mass\n",
    "lb,ll1,ll2,lr1,lr2 = sym.symbols(['l_{body}','l_{leg1left}','l_{leg2left}','l_{leg1right}','l_{leg2right}']) # length\n",
    "Inb,Inll1,Inll2,Inlr1,Inlr2 = sym.symbols(['I_{body}','I_{leg1left}','I_{leg2left}','I_{leg1right}','I_{leg2right}']) # moment of intertia\n",
    "\n",
    "# generalized coordinates\n",
    "x,y,thb,thll,thlr,rl,rr = sym.symbols(['x','y','\\\\theta_{body}','\\\\theta_{legleft}','\\\\theta_{legright}','r_{left}','r_{right}']) \n",
    "dx,dy,dthb,dthll,dthlr,drl,drr = sym.symbols(['\\dot{x}','\\dot{y}','\\dot{\\\\theta}_{body}','\\dot{\\\\theta}_{legleft}','\\dot{\\\\theta}_{legright}','\\dot{r}_{left}','\\dot{r}_{right}']) \n",
    "ddx,ddy,ddthb,ddthll,ddthlr,ddrl,ddrr = sym.symbols(['\\ddot{x}','\\ddot{y}','\\ddot{\\\\theta}_{body}','\\ddot{\\\\theta}_{legleft}','\\ddot{\\\\theta}_{legright}','\\ddot{r}_{left}','\\ddot{r}_{right}']) \n",
    "\n",
    "q = sym.Matrix([[x],[y],[thb],[thll],[thlr],[rl],[rr]])\n",
    "dq = sym.Matrix([[dx],[dy],[dthb],[dthll],[dthlr],[drl],[drr]])\n",
    "ddq = sym.Matrix([[ddx],[ddy],[ddthb],[ddthll],[ddthlr],[ddrl],[ddrr]])\n",
    "\n",
    "# forces\n",
    "# total joint action = actuator + rebound, but that will be dealt with elsewhere\n",
    "F_a_l,F_a_r,tau_l,tau_r,GRFx_l,GRFy_l,GRFx_r,GRFy_r = sym.symbols(['F_{left}','F_{right}','\\\\tau_{left}','\\\\tau_{right}','G_{x_{left}}','G_{y_{left}}','G_{x_{right}}','G_{y_{right}}']) \n",
    "\n",
    "# STEP 1: position vectors ri = [x,y,theta] (world frame)\n",
    "rb = sym.Matrix([[x],\n",
    "                [y],\n",
    "                [thb]])\n",
    "\n",
    "# left link\n",
    "rll1 = sym.Matrix([[x - 0.5*lb*sym.cos(thb) + 0.5*ll1*sym.sin(thb + thll)],\n",
    "                [y - 0.5*lb*sym.sin(thb) - 0.5*ll1*sym.cos(thb + thll)],\n",
    "                [thb + thll]])\n",
    "\n",
    "rll2 = sym.Matrix([[x - 0.5*lb*sym.cos(thb) + (0.5*ll1+rl)*sym.sin(thb + thll)],\n",
    "                [y - 0.5*lb*sym.sin(thb) - (0.5*ll1+rl)*sym.cos(thb + thll)],\n",
    "                [thb + thll]])\n",
    "\n",
    "# right link\n",
    "rlr1 = sym.Matrix([[x + 0.5*lb*sym.cos(thb) + 0.5*lr1*sym.sin(thb + thlr)],\n",
    "                [y + 0.5*lb*sym.sin(thb) - 0.5*lr1*sym.cos(thb + thlr)],\n",
    "                [thb + thlr]])\n",
    "\n",
    "rlr2 = sym.Matrix([[x + 0.5*lb*sym.cos(thb) + (0.5*lr1+rr)*sym.sin(thb + thlr)],\n",
    "                [y + 0.5*lb*sym.sin(thb) - (0.5*lr1+rr)*sym.cos(thb + thlr)],\n",
    "                [thb + thlr]])\n",
    "\n",
    "# the Jacobians\n",
    "Jb = rb.jacobian(q)\n",
    "Jll1 = rll1.jacobian(q)\n",
    "Jll2 = rll2.jacobian(q)\n",
    "Jlr1 = rlr1.jacobian(q)\n",
    "Jlr2 = rlr2.jacobian(q)\n",
    "\n",
    "# STEP 2: generate expressions for the system space velocities from the jacobians\n",
    "vb = Jb*dq\n",
    "vll1 = Jll1*dq\n",
    "vll2 = Jll2*dq\n",
    "vlr1 = Jlr1*dq\n",
    "vlr2 = Jlr2*dq\n",
    "\n",
    "# STEP 3: generate expressions for the kinetic and potential energy\n",
    "# mass vectors\n",
    "Mb = sym.Matrix([[mb,mb,Inb]])\n",
    "Mll1 = sym.Matrix([[mll1,mll1,Inll1]])\n",
    "Mll2 = sym.Matrix([[mll2,mll2,Inll2]])\n",
    "Mlr1 = sym.Matrix([[mlr1,mlr1,Inlr1]])\n",
    "Mlr2 = sym.Matrix([[mlr2,mlr2,Inlr2]])\n",
    "\n",
    "T = 0.5*Mb*sym.matrix_multiply_elementwise(vb,vb) + 0.5*Mll1*sym.matrix_multiply_elementwise(vll1,vll1) + 0.5*Mll2*sym.matrix_multiply_elementwise(vll2,vll2) + \\\n",
    "                                                    0.5*Mlr1*sym.matrix_multiply_elementwise(vlr1,vlr1) + 0.5*Mlr2*sym.matrix_multiply_elementwise(vlr2,vlr2)\n",
    "T = T[0]\n",
    "V = mb*g*rb[1] + mll1*g*rll1[1] + mll2*g*rll2[1] + mlr1*g*rlr1[1] + mlr2*g*rlr2[1]\n",
    "\n",
    "# STEP 4: calculate each term of the Lagrange equation\n",
    "# term 1\n",
    "Lg1 = sym.zeros(len(q),1)\n",
    "for i in range(len(q)):\n",
    "    dT_ddq = sym.Matrix([sym.diff(T,dq[i])]) # get partial of T in dq_i\n",
    "    Lg1[i] = dT_ddq.jacobian(q)*dq + dT_ddq.jacobian(dq)*ddq #...then get time derivative of that partial\n",
    "\n",
    "# term 3\n",
    "Lg3 = sym.Matrix([T]).jacobian(q).transpose() # partial of T in q\n",
    "\n",
    "# term 4\n",
    "Lg4 = sym.Matrix([V]).jacobian(q).transpose() # partial of U in q\n",
    "\n",
    "# STEP 5: generalized forces\n",
    "\n",
    "# force vectors for each link\n",
    "tau_b = sym.Matrix([[0],[0],[-(tau_l+tau_r)]])\n",
    "tau_ll = sym.Matrix([[0],[0],[tau_l]])\n",
    "tau_lr = sym.Matrix([[0],[0],[tau_r]])\n",
    "\n",
    "F_ll1 = sym.Matrix([[-F_a_l*sym.sin(thb+thll)],[ F_a_l*sym.cos(thb+thll)],[0]])\n",
    "F_ll2 = sym.Matrix([[ F_a_l*sym.sin(thb+thll)],[-F_a_l*sym.cos(thb+thll)],[0]])\n",
    "\n",
    "F_lr1 = sym.Matrix([[-F_a_r*sym.sin(thb+thlr)],[ F_a_r*sym.cos(thb+thlr)],[0]])\n",
    "F_lr2 = sym.Matrix([[ F_a_r*sym.sin(thb+thlr)],[-F_a_r*sym.cos(thb+thlr)],[0]])\n",
    "\n",
    "GRF_ll2 = sym.Matrix([[GRFx_l],[GRFy_l],[0.5*ll2*GRFx_l*sym.cos(thb+thll)+0.5*ll2*GRFy_l*sym.sin(thb+thll)]])\n",
    "GRF_lr2 = sym.Matrix([[GRFx_r],[GRFy_r],[0.5*lr2*GRFx_r*sym.cos(thb+thlr)+0.5*lr2*GRFy_r*sym.sin(thb+thlr)]])\n",
    "\n",
    "Q = sym.zeros(len(q),1)\n",
    "for j in range(len(q)):\n",
    "    Q[j] = tau_b.transpose()*Jb[:,j]+(tau_ll+F_ll1).transpose()*Jll1[:,j]+(F_ll2+GRF_ll2).transpose()*Jll2[:,j]+\\\n",
    "                                     (tau_lr+F_lr1).transpose()*Jlr1[:,j]+(F_lr2+GRF_lr2).transpose()*Jlr2[:,j]\n",
    "\n",
    "# AND combine!\n",
    "EOM = Lg1 - Lg3 + Lg4 - Q\n",
    "\n",
    "EOMs = sym.zeros(len(q),1)\n",
    "for j in range(len(q)):\n",
    "    EOMs[j] = EOM[j].simplify()"
   ]
  },
  {
   "cell_type": "code",
   "execution_count": 14,
   "metadata": {},
   "outputs": [],
   "source": [
    "# display(EOM)"
   ]
  },
  {
   "cell_type": "code",
   "execution_count": 34,
   "metadata": {},
   "outputs": [
    {
     "data": {
      "image/png": "[encoded data removed]",
      "text/latex": [
       "$\\displaystyle \\left[ - 0.125 \\ddot{\\theta}_{body} - 0.0625 \\ddot{\\theta}_{legleft} - 0.0625 \\ddot{\\theta}_{legright}\\right]$"
      ],
      "text/plain": [
       "[-0.125⋅\\ddot{\\theta}_{body} - 0.0625⋅\\ddot{\\theta}_{legleft} - 0.0625⋅\\ddot{\\\n",
       "theta}_{legright}]"
      ]
     },
     "metadata": {},
     "output_type": "display_data"
    },
    {
     "data": {
      "image/png": "[encoded data removed]",
      "text/latex": [
       "$\\displaystyle \\left[ 0.125 \\ddot{r}_{left} + 0.125 \\ddot{r}_{right} - g\\right]$"
      ],
      "text/plain": [
       "[0.125⋅\\ddot{r}_{left} + 0.125⋅\\ddot{r}_{right} - g]"
      ]
     },
     "metadata": {},
     "output_type": "display_data"
    },
    {
     "data": {
      "image/png": "[encoded data removed]",
      "text/latex": [
       "$\\displaystyle \\left[ - 0.304878048780488 \\ddot{\\theta}_{legleft} - 0.304878048780488 \\ddot{\\theta}_{legright} - 0.365853658536585 \\ddot{r}_{left} + 0.365853658536585 \\ddot{r}_{right} - 1.82926829268293 \\ddot{x}\\right]$"
      ],
      "text/plain": [
       "[-0.304878048780488⋅\\ddot{\\theta}_{legleft} - 0.304878048780488⋅\\ddot{\\theta}_\n",
       "{legright} - 0.365853658536585⋅\\ddot{r}_{left} + 0.365853658536585⋅\\ddot{r}_{r\n",
       "ight} - 1.82926829268293⋅\\ddot{x}]"
      ]
     },
     "metadata": {},
     "output_type": "display_data"
    },
    {
     "data": {
      "image/png": "[encoded data removed]",
      "text/latex": [
       "$\\displaystyle \\left[ - \\ddot{\\theta}_{body} - 3.0 \\ddot{x}\\right]$"
      ],
      "text/plain": [
       "[-\\ddot{\\theta}_{body} - 3.0⋅\\ddot{x}]"
      ]
     },
     "metadata": {},
     "output_type": "display_data"
    },
    {
     "data": {
      "image/png": "[encoded data removed]",
      "text/latex": [
       "$\\displaystyle \\left[ - 0.2 \\ddot{\\theta}_{body} + \\ddot{y} + g\\right]$"
      ],
      "text/plain": [
       "[-0.2⋅\\ddot{\\theta}_{body} + \\ddot{y} + g]"
      ]
     },
     "metadata": {},
     "output_type": "display_data"
    },
    {
     "data": {
      "image/png": "[encoded data removed]",
      "text/latex": [
       "$\\displaystyle \\left[ - \\ddot{\\theta}_{body} - 3.0 \\ddot{x}\\right]$"
      ],
      "text/plain": [
       "[-\\ddot{\\theta}_{body} - 3.0⋅\\ddot{x}]"
      ]
     },
     "metadata": {},
     "output_type": "display_data"
    },
    {
     "data": {
      "image/png": "[encoded data removed]",
      "text/latex": [
       "$\\displaystyle \\left[ 0.2 \\ddot{\\theta}_{body} + \\ddot{y} + g\\right]$"
      ],
      "text/plain": [
       "[0.2⋅\\ddot{\\theta}_{body} + \\ddot{y} + g]"
      ]
     },
     "metadata": {},
     "output_type": "display_data"
    }
   ],
   "source": [
    "# Visually test derived dynamics\n",
    "\n",
    "Inb_ = 1/12*10.0*0.4**2\n",
    "In_ = 1/12*2.5*0.5**2\n",
    "\n",
    "var_values = [(mb,10.0),(mll1,2.5),(mll2,2.5),(mlr1,2.5),(mlr2,2.5),\n",
    "              (lb,0.4),(ll1,0.5),(ll2,0.5),(lr1,0.5),(lr2,0.5),\n",
    "              (Inb,Inb_),(Inll1,In_),(Inll2,In_),(Inlr1,In_),(Inlr2,In_),\n",
    "              (x,0.0),(y,0.0),(thb,0.0),(thll,0.0),(thlr,0.0),(rl,0.0),(rr,0.0),\n",
    "              (dx,0.0),(dy,0.0),(dthb,0.0),(dthll,0.0),(dthlr,0.0),(drl,0.0),(drr,0.0),\n",
    "              (F_a_l,0.0),(F_a_r,0.0),(tau_l,0.0),(tau_r,0.0),(GRFx_l,0.0),(GRFy_l,0.0),(GRFx_r,0.0),(GRFy_r,0.0)]\n",
    "\n",
    "EOMx    = EOMs[0]\n",
    "EOMy    = EOMs[1]\n",
    "EOMthb  = EOMs[2]\n",
    "EOMthll = EOMs[3]\n",
    "EOMthlr = EOMs[4]\n",
    "EOMrl   = EOMs[5]\n",
    "EOMrr   = EOMs[6]\n",
    "\n",
    "EOMx_    = EOMx.subs(var_values)\n",
    "EOMy_    = EOMy.subs(var_values)\n",
    "EOMthb_  = EOMthb.subs(var_values)\n",
    "EOMthll_ = EOMthll.subs(var_values)\n",
    "EOMrl_   = EOMrl.subs(var_values)\n",
    "EOMthlr_ = EOMthlr.subs(var_values)\n",
    "EOMrr_   = EOMrr.subs(var_values)\n",
    "\n",
    "display(sym.solve(EOMx_,ddx))\n",
    "display(sym.solve(EOMy_,ddy))\n",
    "display(sym.solve(EOMthb_,ddthb))\n",
    "display(sym.solve(EOMthll_,ddthll))\n",
    "display(sym.solve(EOMrl_,ddrl))\n",
    "display(sym.solve(EOMthlr_,ddthlr))\n",
    "display(sym.solve(EOMrr_,ddrr))\n",
    "\n",
    "\n",
    "# display(pf_b.subs(var_values))"
   ]
  },
  {
   "cell_type": "code",
   "execution_count": 3,
   "metadata": {},
   "outputs": [],
   "source": [
    "# Auxiliary Variables - foot position and velocity in board and global frame\n",
    "\n",
    "# system variables\n",
    "xm,ym,thm,thl,r = sym.symbols(['x_{mono}','y_{mono}','\\\\theta_{mono}','\\\\theta_{link1}','r_{mono}']) # monopod in global frame\n",
    "dxm,dym,dthm,dthl,dr = sym.symbols(['\\dot{x}_{mono}','\\dot{y}_{mono}','\\dot{\\\\theta}_{mono}','\\dot{\\\\theta}_{link1}','\\dot{r}_{mono}'])\n",
    "lb,l1,l2 = sym.symbols(['l_{board}','l_{link1}','l_{link2}']) # lenghts of links\n",
    "xb,yb,thb = sym.symbols(['x_{board}','y_{board}','\\\\theta_{board}']) # board in global frame\n",
    "dxb,dyb,dthb = sym.symbols(['\\dot{x}_{board}','\\dot{y}_{board}','\\dot{\\\\theta}_{board}'])\n",
    "\n",
    "q = sym.Matrix([[xb],[yb],[thb],[xm],[ym],[thm],[thl],[r]])\n",
    "dq = sym.Matrix([[dxb],[dyb],[dthb],[dxm],[dym],[dthm],[dthl],[dr]])\n",
    "\n",
    "thA = thm + thl\n",
    "L = 0.5*l1+0.5*l2+r\n",
    "\n",
    "pb = sym.Matrix([[xb], [yb]])\n",
    "pfl = sym.Matrix([[xm - 0.5*lb*sym.cos(thm) + L*sym.sin(thA)], [ym - 0.5*lb*sym.sin(thm) - L*sym.cos(thA)]]) # position of left foot in global frame\n",
    "pfr = sym.Matrix([[xm + 0.5*lb*sym.cos(thm) + L*sym.sin(thA)], [ym + 0.5*lb*sym.sin(thm) - L*sym.cos(thA)]]) # position of right foot in global frame\n",
    "\n",
    "Rz_thb = sym.Matrix([[sym.cos(thb), sym.sin(thb)], # z-rotation by thA\n",
    "                     [-sym.sin(thb), sym.cos(thb)]])\n",
    "\n",
    "pfl_b = Rz_thb*(pfl-pb) # position of left foot in board frame\n",
    "pfr_b = Rz_thb*(pfr-pb) # position of right foot in board frame\n",
    "\n",
    "# Velocity of left foot in board frame\n",
    "vfl_b = pfl_b.jacobian(q)*dq\n",
    "vfl_bx = vfl_b[0].simplify()\n",
    "# Velocity of right foot in board frame\n",
    "vfr_b = pfr_b.jacobian(q)*dq\n",
    "vfr_bx = vfr_b[0].simplify()"
   ]
  },
  {
   "cell_type": "code",
   "execution_count": null,
   "metadata": {},
   "outputs": [],
   "source": [
    "# Saving equations of motion so you don't have to generate them again\n",
    "import pickle as pkl\n",
    "\n",
    "data = {\"EOMs\":EOMs, \"pfoot_left\":pfl, \"pfoot_left_board\":pfl_b, \"vfootx_left_board\":vfl_bx, \"pfoot_right\":pfr, \"pfoot_right_board\":pfr_b, \"vfootx_right_board\":vfr_bx}\n",
    "\n",
    "outfile = open('bipod_EOMs','wb')\n",
    "pkl.dump(data,outfile)\n",
    "outfile.close()"
   ]
  },
  {
   "cell_type": "code",
   "execution_count": null,
   "metadata": {},
   "outputs": [],
   "source": [
    "# UNPICKLE - Test\n",
    "infile = open('bipod_EOMs','rb')\n",
    "data = pkl.load(infile)\n",
    "infile.close()\n",
    "\n",
    "EOMs = data['EOMs']\n",
    "pfoot_left = data['pfoot_left']\n",
    "pfoot_left_b = data['pfoot_left_board']\n",
    "vfootx_left_b = data['vfootx_left_board']\n",
    "pfoot_right = data['pfoot_right']\n",
    "pfoot_right_b = data['pfoot_right_board']\n",
    "vfootx_right_b = data['vfootx_right_board']\n",
    "\n",
    "display(EOMs)\n",
    "display(pfoot_left)\n",
    "display(pfoot_left_b)\n",
    "display(vfootx_left_b)\n",
    "display(pfoot_right)\n",
    "display(pfoot_right_b)\n",
    "display(vfootx_right_b)"
   ]
  },
  {
   "cell_type": "code",
   "execution_count": null,
   "metadata": {},
   "outputs": [],
   "source": []
  }
 ],
 "metadata": {
  "kernelspec": {
   "display_name": "Python 3",
   "language": "python",
   "name": "python3"
  },
  "language_info": {
   "codemirror_mode": {
    "name": "ipython",
    "version": 3
   },
   "file_extension": ".py",
   "mimetype": "text/x-python",
   "name": "python",
   "nbconvert_exporter": "python",
   "pygments_lexer": "ipython3",
   "version": "3.7.3"
  }
 },
 "nbformat": 4,
 "nbformat_minor": 2
}
